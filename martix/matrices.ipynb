{
 "cells": [
  {
   "cell_type": "code",
   "execution_count": 42,
   "metadata": {
    "collapsed": true
   },
   "outputs": [],
   "source": [
    "\n",
    "\n",
    "def orth_check(matA, matB):\n",
    "    ln = len(matA)\n",
    "    temp = len(matB)\n",
    "    matches = []\n",
    "    if(ln != temp):\n",
    "        print('matrix error')\n",
    "        return\n",
    "    for i in range(ln):\n",
    "        for j in range(ln):\n",
    "            found = [matA[i][j],matB[i][j]]\n",
    "            if found in matches:\n",
    "                return False\n",
    "            matches.append(found)\n",
    "    return True\n",
    "\n",
    "def orth_mats(n):\n",
    "    mats = []\n",
    "    for k in range(n-1):\n",
    "        new = []\n",
    "        for i in range(n):\n",
    "            temp = []\n",
    "            for j in range(n):\n",
    "                val = (i+1) + (k+1)*(j+1)\n",
    "                val = val%n\n",
    "                if val == 0:\n",
    "                    val = n\n",
    "                temp.append(val)\n",
    "            new.append(temp)\n",
    "        mats.append(new)\n",
    "    return mats"
   ]
  },
  {
   "cell_type": "code",
   "execution_count": 8,
   "metadata": {
    "collapsed": true
   },
   "outputs": [],
   "source": [
    "def choose(n,m):\n",
    "    if(m>n):\n",
    "        print(\"error\")\n",
    "        return\n",
    "    num = 1\n",
    "    k = 1\n",
    "    for i in range(2,n+1):\n",
    "        num = num*i\n",
    "    for i in range(2,m+1):\n",
    "        k = k*i\n",
    "    temp = n-m\n",
    "    nk = 1\n",
    "    for i in range(2,temp+1):\n",
    "        nk = nk * i\n",
    "    den = k*nk\n",
    "    return num/den"
   ]
  },
  {
   "cell_type": "code",
   "execution_count": 7,
   "metadata": {
    "collapsed": true
   },
   "outputs": [],
   "source": [
    "def transpose(mat):\n",
    "    '''input: mat - a 2 dementional array in a for on a integer matrix\n",
    "       *****  \n",
    "       output: the transpose matrix of matrix mat\n",
    "       ******\n",
    "    '''\n",
    "    tra_mat = []\n",
    "    for i in range(len(mat[0])):\n",
    "        row = []\n",
    "        for k in range(len(mat)):\n",
    "            row.append(mat[k][i])\n",
    "        tra_mat.append(row)\n",
    "    return tra_mat"
   ]
  },
  {
   "cell_type": "code",
   "execution_count": null,
   "metadata": {
    "collapsed": true
   },
   "outputs": [],
   "source": []
  },
  {
   "cell_type": "code",
   "execution_count": null,
   "metadata": {
    "collapsed": true
   },
   "outputs": [],
   "source": []
  }
 ],
 "metadata": {
  "anaconda-cloud": {},
  "kernelspec": {
   "display_name": "Python 3",
   "language": "python",
   "name": "python3"
  },
  "language_info": {
   "codemirror_mode": {
    "name": "ipython",
    "version": 3
   },
   "file_extension": ".py",
   "mimetype": "text/x-python",
   "name": "python",
   "nbconvert_exporter": "python",
   "pygments_lexer": "ipython3",
   "version": "3.6.1"
  }
 },
 "nbformat": 4,
 "nbformat_minor": 1
}
