{
 "cells": [
  {
   "cell_type": "code",
   "execution_count": 92,
   "metadata": {},
   "outputs": [
    {
     "name": "stdout",
     "output_type": "stream",
     "text": [
      "None\n"
     ]
    }
   ],
   "source": [
    "\"\"\"Given a positive integral number n, return a strictly \n",
    "increasing sequence (list/array/string depending on the \n",
    "language) of numbers, so that the sum of the squares is \n",
    "equal to n².\"\"\"\n",
    "\n",
    "def check(m, num, arr):\n",
    "    if m == 0:\n",
    "        if num == 0: return arr\n",
    "        else:\n",
    "            try:\n",
    "                m = arr.pop(-1)\n",
    "                return check(m-1, num+(m*m), arr)\n",
    "            except IndexError:\n",
    "                return None\n",
    "    if m*m <= num:\n",
    "        arr.append(m)\n",
    "        num -= m*m\n",
    "        m-= 1\n",
    "        while(m*m>num): m-= 1\n",
    "    else:\n",
    "        m-= 1\n",
    "        while(m*m>num): m-= 1\n",
    "    return check(m,num,arr)\n",
    "\n",
    "def decompose(n):\n",
    "    m = n - 1\n",
    "    arr = check(m,n*n,[])\n",
    "    if arr == None: return arr\n",
    "    else:\n",
    "        arr.reverse()\n",
    "        return arr\n",
    "    \n",
    "print(decompose(4))"
   ]
  },
  {
   "cell_type": "code",
   "execution_count": null,
   "metadata": {},
   "outputs": [],
   "source": []
  },
  {
   "cell_type": "code",
   "execution_count": null,
   "metadata": {
    "collapsed": true
   },
   "outputs": [],
   "source": []
  }
 ],
 "metadata": {
  "kernelspec": {
   "display_name": "Python 3",
   "language": "python",
   "name": "python3"
  },
  "language_info": {
   "codemirror_mode": {
    "name": "ipython",
    "version": 3
   },
   "file_extension": ".py",
   "mimetype": "text/x-python",
   "name": "python",
   "nbconvert_exporter": "python",
   "pygments_lexer": "ipython3",
   "version": "3.6.1"
  }
 },
 "nbformat": 4,
 "nbformat_minor": 2
}
