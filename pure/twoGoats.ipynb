{
 "cells": [
  {
   "cell_type": "code",
   "execution_count": 2,
   "metadata": {},
   "outputs": [
    {
     "name": "stdout",
     "output_type": "stream",
     "text": [
      "0.66819\n",
      "0.66647\n",
      "0.66698\n",
      "0.66424\n",
      "0.66736\n",
      "0.66563\n",
      "0.66689\n",
      "0.66789\n",
      "0.6669\n",
      "0.66535\n",
      "ave val: 0.66659\n"
     ]
    }
   ],
   "source": [
    "import random as rand\n",
    "\n",
    "#proving the 2 goat problem\n",
    "tot = 0\n",
    "for i in range(10):\n",
    "    limit = 100000\n",
    "    count = 0\n",
    "    for i in range(limit):\n",
    "        goat = list(range(3)) #a door with a goat\n",
    "        choice = list(range(3)) #your new guess\n",
    "        car = rand.randrange(3) #random door with a car\n",
    "        guess = rand.randrange(3) #your initial guess\n",
    "        if car == guess: goat.remove(car) #picking a door to open\n",
    "        else: \n",
    "            goat.remove(car)\n",
    "            goat.remove(guess)\n",
    "        choice.remove(goat[0])\n",
    "        \n",
    "        choice.remove(guess) #switching your guess\n",
    "        if car == choice[0]: count += 1\n",
    "    print(count/limit)\n",
    "    tot += count\n",
    "print('ave val:', tot/(10*limit))"
   ]
  },
  {
   "cell_type": "code",
   "execution_count": null,
   "metadata": {
    "collapsed": true
   },
   "outputs": [],
   "source": []
  },
  {
   "cell_type": "code",
   "execution_count": null,
   "metadata": {
    "collapsed": true
   },
   "outputs": [],
   "source": []
  },
  {
   "cell_type": "code",
   "execution_count": null,
   "metadata": {
    "collapsed": true
   },
   "outputs": [],
   "source": []
  }
 ],
 "metadata": {
  "kernelspec": {
   "display_name": "Python 3",
   "language": "python",
   "name": "python3"
  },
  "language_info": {
   "codemirror_mode": {
    "name": "ipython",
    "version": 3
   },
   "file_extension": ".py",
   "mimetype": "text/x-python",
   "name": "python",
   "nbconvert_exporter": "python",
   "pygments_lexer": "ipython3",
   "version": "3.7.4"
  }
 },
 "nbformat": 4,
 "nbformat_minor": 2
}
