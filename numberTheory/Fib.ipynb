{
 "cells": [
  {
   "cell_type": "code",
   "execution_count": 46,
   "metadata": {},
   "outputs": [
    {
     "data": {
      "text/plain": [
       "130698922376339931803631155380271983098392443907412640726006659460192793070479231740288681087777017721095463154979012276234322246936939647185366706368489362660844147449941348462800922755818969634743348982916424954062744135969865615407276492410653721774590669544801490837649161732095972658064630033793347171632"
      ]
     },
     "execution_count": 46,
     "metadata": {},
     "output_type": "execute_result"
    }
   ],
   "source": [
    "#calculation iteritavly \n",
    "def fib(m):\n",
    "    #Input: Some int m\n",
    "    #Output: The mth number in the fibonacci sequence \n",
    "    if m == 0: return 0\n",
    "    fm, fp, temp = 0, 1, 0\n",
    "    for i in range(1,m):\n",
    "        temp = fp \n",
    "        fp = fp + fm\n",
    "        fm = temp\n",
    "    return fp\n",
    "\n",
    "fib(1476)"
   ]
  },
  {
   "cell_type": "code",
   "execution_count": 47,
   "metadata": {},
   "outputs": [],
   "source": [
    "import math\n",
    "\n",
    "#using the golden ratio - direct calculation\n",
    "def fib_gr(x):\n",
    "    #Input: Some int m\n",
    "    #Output: The mth number in the fibonacci sequence \n",
    "    #inaccurate after 71st number in the sequence due to rounding errors\n",
    "    gr = (1 + math.sqrt(5))/2\n",
    "    return int((gr**x - (1-gr)**x) / math.sqrt(5))"
   ]
  },
  {
   "cell_type": "code",
   "execution_count": null,
   "metadata": {},
   "outputs": [],
   "source": []
  },
  {
   "cell_type": "code",
   "execution_count": null,
   "metadata": {
    "collapsed": true
   },
   "outputs": [],
   "source": []
  }
 ],
 "metadata": {
  "kernelspec": {
   "display_name": "Python 3",
   "language": "python",
   "name": "python3"
  },
  "language_info": {
   "codemirror_mode": {
    "name": "ipython",
    "version": 3
   },
   "file_extension": ".py",
   "mimetype": "text/x-python",
   "name": "python",
   "nbconvert_exporter": "python",
   "pygments_lexer": "ipython3",
   "version": "3.6.1"
  }
 },
 "nbformat": 4,
 "nbformat_minor": 2
}
