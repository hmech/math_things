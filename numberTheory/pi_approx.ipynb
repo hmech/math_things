{
 "cells": [
  {
   "cell_type": "code",
   "execution_count": 29,
   "metadata": {
    "collapsed": true
   },
   "outputs": [],
   "source": [
    "import random\n",
    "import math\n",
    "\n",
    "def p_factors(x):\n",
    "    xarr = []\n",
    "    xdiv = 2\n",
    "    while x != 1:\n",
    "        if x%xdiv == 0:\n",
    "            xarr.append(xdiv)\n",
    "            x = x/xdiv\n",
    "            xdiv = 2\n",
    "        else:\n",
    "            xdiv += 1\n",
    "    return xarr\n",
    "\n",
    "def co_prime(x,y):\n",
    "    xarr = p_factors(x)\n",
    "    yarr = p_factors(y)\n",
    "    for i in xarr:\n",
    "        if i in yarr:\n",
    "            return False\n",
    "    return True"
   ]
  },
  {
   "cell_type": "code",
   "execution_count": 30,
   "metadata": {},
   "outputs": [
    {
     "data": {
      "text/plain": [
       "3.146843528905081"
      ]
     },
     "execution_count": 30,
     "metadata": {},
     "output_type": "execute_result"
    }
   ],
   "source": [
    "def pi_approx(n, ran):\n",
    "    '''\n",
    "    input: n - number of compairisons made, r - range of random numbers.\n",
    "    ******\n",
    "    \n",
    "    output: approximation of pi.\n",
    "    *******\n",
    "    '''\n",
    "    co_pr = 0\n",
    "    co_fa = 0\n",
    "    for i in range(n):\n",
    "        x = random.randint(1,ran)\n",
    "        y = random.randint(1,ran)\n",
    "        if co_prime(x,y):\n",
    "            co_pr += 1\n",
    "        else:\n",
    "            co_fa += 1\n",
    "    return math.sqrt((6*(n))/co_pr)\n",
    "\n",
    "pi_approx(10000, 10000)"
   ]
  },
  {
   "cell_type": "code",
   "execution_count": null,
   "metadata": {},
   "outputs": [],
   "source": []
  },
  {
   "cell_type": "code",
   "execution_count": null,
   "metadata": {
    "collapsed": true
   },
   "outputs": [],
   "source": []
  }
 ],
 "metadata": {
  "anaconda-cloud": {},
  "kernelspec": {
   "display_name": "Python 3",
   "language": "python",
   "name": "python3"
  },
  "language_info": {
   "codemirror_mode": {
    "name": "ipython",
    "version": 3
   },
   "file_extension": ".py",
   "mimetype": "text/x-python",
   "name": "python",
   "nbconvert_exporter": "python",
   "pygments_lexer": "ipython3",
   "version": "3.6.1"
  }
 },
 "nbformat": 4,
 "nbformat_minor": 1
}
