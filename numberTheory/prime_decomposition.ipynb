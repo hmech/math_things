{
 "cells": [
  {
   "cell_type": "code",
   "execution_count": 1,
   "metadata": {},
   "outputs": [
    {
     "data": {
      "text/plain": [
       "[2, 3, 5, 7, 11, 13, 17, 19, 23, 29, 31, 37]"
      ]
     },
     "execution_count": 1,
     "metadata": {},
     "output_type": "execute_result"
    }
   ],
   "source": [
    "def prime_dec(n): \n",
    "    #function to find the prime decomposition of a number n\n",
    "    arr = []\n",
    "    i = 2\n",
    "    while(n>1):\n",
    "        if(int(n%i)==0):\n",
    "            arr.append(i)\n",
    "            n = n/i\n",
    "            i = 2\n",
    "        else:\n",
    "            i += 1\n",
    "    return arr\n",
    "\n",
    "prime_dec(7420738134810)"
   ]
  },
  {
   "cell_type": "code",
   "execution_count": 2,
   "metadata": {},
   "outputs": [
    {
     "name": "stdout",
     "output_type": "stream",
     "text": [
      "2\n",
      "3\n",
      "5\n",
      "7\n",
      "11\n",
      "13\n",
      "17\n",
      "19\n",
      "23\n",
      "29\n",
      "31\n",
      "37\n"
     ]
    }
   ],
   "source": [
    "def prime_dec_print(n):\n",
    "    i = 2\n",
    "    while(n>1):\n",
    "        if(int(n%i)==0):\n",
    "            print(i)\n",
    "            n = int(n/i)\n",
    "        else:\n",
    "            i += 1\n",
    "    return\n",
    "prime_dec_print(7420738134810)"
   ]
  },
  {
   "cell_type": "code",
   "execution_count": null,
   "metadata": {
    "collapsed": true
   },
   "outputs": [],
   "source": []
  }
 ],
 "metadata": {
  "kernelspec": {
   "display_name": "Python 3",
   "language": "python",
   "name": "python3"
  },
  "language_info": {
   "codemirror_mode": {
    "name": "ipython",
    "version": 3
   },
   "file_extension": ".py",
   "mimetype": "text/x-python",
   "name": "python",
   "nbconvert_exporter": "python",
   "pygments_lexer": "ipython3",
   "version": "3.6.1"
  }
 },
 "nbformat": 4,
 "nbformat_minor": 2
}
