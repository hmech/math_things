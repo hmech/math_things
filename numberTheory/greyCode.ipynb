{
 "cells": [
  {
   "cell_type": "code",
   "execution_count": 1,
   "metadata": {},
   "outputs": [
    {
     "name": "stdout",
     "output_type": "stream",
     "text": [
      "1 1 1\n",
      "2 3 3\n",
      "3 7 7\n",
      "4 15 15\n",
      "5 31 31\n",
      "\n",
      "121312141213121\n",
      "\n",
      "1 [0, 0, 0, 0, 1]\n",
      "2 [0, 0, 0, 1, 1]\n",
      "1 [0, 0, 0, 1, 0]\n",
      "3 [0, 0, 1, 1, 0]\n",
      "1 [0, 0, 1, 1, 1]\n",
      "2 [0, 0, 1, 0, 1]\n",
      "1 [0, 0, 1, 0, 0]\n",
      "4 [0, 1, 1, 0, 0]\n",
      "1 [0, 1, 1, 0, 1]\n",
      "2 [0, 1, 1, 1, 1]\n",
      "1 [0, 1, 1, 1, 0]\n",
      "3 [0, 1, 0, 1, 0]\n",
      "1 [0, 1, 0, 1, 1]\n",
      "2 [0, 1, 0, 0, 1]\n",
      "1 [0, 1, 0, 0, 0]\n",
      "5 [1, 1, 0, 0, 0]\n",
      "1 [1, 1, 0, 0, 1]\n",
      "2 [1, 1, 0, 1, 1]\n",
      "1 [1, 1, 0, 1, 0]\n",
      "3 [1, 1, 1, 1, 0]\n",
      "1 [1, 1, 1, 1, 1]\n",
      "2 [1, 1, 1, 0, 1]\n",
      "1 [1, 1, 1, 0, 0]\n",
      "4 [1, 0, 1, 0, 0]\n",
      "1 [1, 0, 1, 0, 1]\n",
      "2 [1, 0, 1, 1, 1]\n",
      "1 [1, 0, 1, 1, 0]\n",
      "3 [1, 0, 0, 1, 0]\n",
      "1 [1, 0, 0, 1, 1]\n",
      "2 [1, 0, 0, 0, 1]\n",
      "1 [1, 0, 0, 0, 0]\n"
     ]
    }
   ],
   "source": [
    "#writing Gray code sequences (each number in the sequence in the changed graycode bit, starting with 00...0)\n",
    "def graySeq(n):\n",
    "    base = '121'\n",
    "    if n == 1:\n",
    "        return '1'\n",
    "    for i in range(3,n+1):\n",
    "        base = base + str(i) + base\n",
    "    return base\n",
    "\n",
    "def graySeqCon(n): #uses graySeq to write gray code\n",
    "    base = [0]*n\n",
    "    for i in graySeq(n):\n",
    "        if base[-int(i)] == 1:\n",
    "                base[-int(i)] = 0\n",
    "        else:\n",
    "            base[-int(i)] = 1\n",
    "        print(i,base)\n",
    "\n",
    "for i in range(1,6): #thus length is always 2^n - 1\n",
    "    print(i, 2**i -1, len(graySeq(i)))\n",
    "\n",
    "print()\n",
    "\n",
    "print(graySeq(4)) #sample output\n",
    "\n",
    "print()\n",
    "        \n",
    "graySeqCon(5) #sample output"
   ]
  },
  {
   "cell_type": "code",
   "execution_count": null,
   "metadata": {},
   "outputs": [],
   "source": []
  }
 ],
 "metadata": {
  "kernelspec": {
   "display_name": "Python 3",
   "language": "python",
   "name": "python3"
  },
  "language_info": {
   "codemirror_mode": {
    "name": "ipython",
    "version": 3
   },
   "file_extension": ".py",
   "mimetype": "text/x-python",
   "name": "python",
   "nbconvert_exporter": "python",
   "pygments_lexer": "ipython3",
   "version": "3.7.4"
  }
 },
 "nbformat": 4,
 "nbformat_minor": 2
}
