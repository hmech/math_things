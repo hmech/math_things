{
 "cells": [
  {
   "cell_type": "code",
   "execution_count": null,
   "metadata": {},
   "outputs": [],
   "source": [
    "#Catalan Numbers\n",
    "def catalan(depth): #prints \"depth\" catalan numbers\n",
    "    arr = [[0],[1,0],[1,1,0]]\n",
    "    for i in range(2,depth):\n",
    "        arr.append([1])\n",
    "        for j in range(i):\n",
    "            arr[i+1].append(arr[i][j+1] + arr[i+1][j])\n",
    "        arr[i+1].append(0)\n",
    "    for i in range(1,len(arr)):\n",
    "        print(arr[i][-2])\n",
    "        \n",
    "def catalanNum(depth):\n",
    "    arr = [[0],[1,0],[1,1,0]]\n",
    "    for i in range(2,depth):\n",
    "        arr.append([1])\n",
    "        for j in range(i):\n",
    "            arr[i+1].append(arr[i][j+1] + arr[i+1][j])\n",
    "        arr[i+1].append(0)\n",
    "    print(arr[-1][-2])\n",
    "\n",
    "def catalanTree(depth):\n",
    "    arr = [[0],[1,0],[1,1,0]]\n",
    "    for i in range(2,depth):\n",
    "        arr.append([1])\n",
    "        for j in range(i):\n",
    "            arr[i+1].append(arr[i][j+1] + arr[i+1][j])\n",
    "        arr[i+1].append(0)\n",
    "    for i in arr:\n",
    "        print(i)\n",
    "        \n",
    "print(\"List of catalan Numbers:\")\n",
    "catalan(10)\n",
    "print(\"\\nThe n'th catalan Number:\")\n",
    "catalanNum(10)\n",
    "print(\"\\nCatalan Tree:\")\n",
    "catalanTree(10)"
   ]
  }
 ],
 "metadata": {
  "kernelspec": {
   "display_name": "Python 3",
   "language": "python",
   "name": "python3"
  },
  "language_info": {
   "codemirror_mode": {
    "name": "ipython",
    "version": 3
   },
   "file_extension": ".py",
   "mimetype": "text/x-python",
   "name": "python",
   "nbconvert_exporter": "python",
   "pygments_lexer": "ipython3",
   "version": "3.7.4"
  }
 },
 "nbformat": 4,
 "nbformat_minor": 2
}
