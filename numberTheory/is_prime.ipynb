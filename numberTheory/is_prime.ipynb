{
 "cells": [
  {
   "cell_type": "code",
   "execution_count": 16,
   "metadata": {},
   "outputs": [
    {
     "data": {
      "text/plain": [
       "(False, 64951)"
      ]
     },
     "execution_count": 16,
     "metadata": {},
     "output_type": "execute_result"
    }
   ],
   "source": [
    "def is_prime(num):\n",
    "    #checks if number is prime\n",
    "    #if false return first divisible number\n",
    "    #slow\n",
    "    if num<2: return False\n",
    "    n = 2\n",
    "    while n<=(num/2):\n",
    "        if num%n == 0: return (False,n)\n",
    "        n+=1\n",
    "    return True\n",
    "\n",
    "is_prime(742073813483)"
   ]
  },
  {
   "cell_type": "code",
   "execution_count": 2,
   "metadata": {},
   "outputs": [
    {
     "data": {
      "text/plain": [
       "(False, 64951)"
      ]
     },
     "execution_count": 2,
     "metadata": {},
     "output_type": "execute_result"
    }
   ],
   "source": [
    "def is_prime2(n):\n",
    "    #checks if number is prime\n",
    "    #if false return first divisible number\n",
    "    #fast\n",
    "    if n%2 == 0 or n<2: return False\n",
    "    for i in range(3,int(n/2),2):\n",
    "        if n%i == 0: return (False,i)\n",
    "    return True\n",
    "\n",
    "is_prime2(742073813483)"
   ]
  },
  {
   "cell_type": "code",
   "execution_count": 14,
   "metadata": {},
   "outputs": [
    {
     "data": {
      "text/plain": [
       "37"
      ]
     },
     "execution_count": 14,
     "metadata": {},
     "output_type": "execute_result"
    }
   ],
   "source": [
    "def gcd(n, m):\n",
    "    #returns the gcd of n and m\n",
    "    #slow\n",
    "    g = []\n",
    "    arr1 = prime_dec(n)\n",
    "    arr2 = prime_dec(m)\n",
    "    for i in arr1:\n",
    "        if i in arr2:\n",
    "            g.append(i)\n",
    "            arr2.remove(i)\n",
    "    return prod(g)\n",
    "\n",
    "gcd(742073813481,742073813518)"
   ]
  },
  {
   "cell_type": "code",
   "execution_count": 15,
   "metadata": {},
   "outputs": [
    {
     "data": {
      "text/plain": [
       "37"
      ]
     },
     "execution_count": 15,
     "metadata": {},
     "output_type": "execute_result"
    }
   ],
   "source": [
    "def gcd2(n,m):\n",
    "    #returns the gcd of n and m\n",
    "    #fast\n",
    "    if(n%m == 0):\n",
    "        return m\n",
    "    return gcd2(m,n%m)\n",
    "\n",
    "gcd2(742073813481,742073813518)"
   ]
  },
  {
   "cell_type": "code",
   "execution_count": null,
   "metadata": {
    "collapsed": true
   },
   "outputs": [],
   "source": []
  }
 ],
 "metadata": {
  "kernelspec": {
   "display_name": "Python 3",
   "language": "python",
   "name": "python3"
  },
  "language_info": {
   "codemirror_mode": {
    "name": "ipython",
    "version": 3
   },
   "file_extension": ".py",
   "mimetype": "text/x-python",
   "name": "python",
   "nbconvert_exporter": "python",
   "pygments_lexer": "ipython3",
   "version": "3.7.4"
  }
 },
 "nbformat": 4,
 "nbformat_minor": 2
}
