{
 "cells": [
  {
   "cell_type": "code",
   "execution_count": 2,
   "metadata": {},
   "outputs": [
    {
     "data": {
      "text/plain": [
       "[0, 0, 0, 0, 0, 0, 1, 0, 0, 0, 1, 1]"
      ]
     },
     "execution_count": 2,
     "metadata": {},
     "output_type": "execute_result"
    }
   ],
   "source": [
    "def bi(n, length): #writes 'n' in binary with 'length' digits \n",
    "    num = []\n",
    "    temp = []\n",
    "    while(n>0): #creats the # in binary form, but is inputted into the array backwards.\n",
    "        num.append(n%2)\n",
    "        n = int(n/2)    \n",
    "    for i in range(len(num), length): #adds trailing 0's to the desired length.\n",
    "        num.append(0)\n",
    "    n = len(num)-1\n",
    "    for i in range(len(num)): #cycles through num backwards, making temp the desired binary #.\n",
    "        temp.append(num[n])\n",
    "        n -= 1\n",
    "    return temp\n",
    "'''\n",
    "Input: Some int n\n",
    "Output: some integer n in an array represented in base 2. length indicates the length of the \n",
    "array, if the length given is less then the length of the number in binary then the length \n",
    "becomes the minimum required length\n",
    "'''\n",
    "\n",
    "bi(35, 12)"
   ]
  },
  {
   "cell_type": "code",
   "execution_count": 3,
   "metadata": {},
   "outputs": [
    {
     "data": {
      "text/plain": [
       "[[0, 0, 0, 0],\n",
       " [0, 0, 0, 1],\n",
       " [0, 0, 1, 0],\n",
       " [0, 0, 1, 1],\n",
       " [0, 1, 0, 0],\n",
       " [0, 1, 0, 1],\n",
       " [0, 1, 1, 0],\n",
       " [0, 1, 1, 1],\n",
       " [1, 0, 0, 0],\n",
       " [1, 0, 0, 1],\n",
       " [1, 0, 1, 0],\n",
       " [1, 0, 1, 1],\n",
       " [1, 1, 0, 0],\n",
       " [1, 1, 0, 1],\n",
       " [1, 1, 1, 0],\n",
       " [1, 1, 1, 1]]"
      ]
     },
     "execution_count": 3,
     "metadata": {},
     "output_type": "execute_result"
    }
   ],
   "source": [
    "def all_bi(n): #writes all binary numbers up to 'n' in an array\n",
    "    power = 0\n",
    "    temp = []\n",
    "    bis = []\n",
    "    while(2**power<=n):\n",
    "        power+=1\n",
    "    for i in range(0,n+1):\n",
    "        temp = bi(i,power)\n",
    "        bis.append(temp)\n",
    "    return bis\n",
    "'''\n",
    "Input: some int n\n",
    "Output: All binary numbers up to the given n. Each binary number is returned in an array\n",
    "'''\n",
    "all_bi(15)"
   ]
  },
  {
   "cell_type": "code",
   "execution_count": 7,
   "metadata": {},
   "outputs": [
    {
     "data": {
      "text/plain": [
       "[[], [3], [2], [2, 3], [1], [1, 3], [1, 2], [1, 2, 3]]"
      ]
     },
     "execution_count": 7,
     "metadata": {},
     "output_type": "execute_result"
    }
   ],
   "source": [
    "def all_sets(n): #all subsets of the set of order 'n'\n",
    "    num = []\n",
    "    sets = []\n",
    "    for i in range(1,(2**n)+1):\n",
    "        num.append(i)\n",
    "    bi = all_bi((2**n)-1)\n",
    "    for i in bi:\n",
    "        temp = []\n",
    "        for k in range(len(i)):\n",
    "            if i[k] != 0:\n",
    "                temp.append(num[k])\n",
    "        sets.append(temp)\n",
    "    return sets\n",
    "'''\n",
    "Input: some int n\n",
    "Output: All possible subsets of the set [1,2,...,n]\n",
    "'''\n",
    "all_sets(3)"
   ]
  },
  {
   "cell_type": "code",
   "execution_count": 12,
   "metadata": {},
   "outputs": [
    {
     "name": "stdout",
     "output_type": "stream",
     "text": [
      "110111\n",
      "010111\n"
     ]
    }
   ],
   "source": [
    "def sign_mag(n): #int into binary signed magnatude\n",
    "    temp = n\n",
    "    n = abs(n)\n",
    "    num = ''\n",
    "    if n==0:\n",
    "        num = '0'\n",
    "        \n",
    "    while(n>0):\n",
    "        num = str(n%2)+num\n",
    "        n = int(n/2)\n",
    "        \n",
    "    if(temp > 0):\n",
    "        num = '0'+num\n",
    "    elif(temp < 0):\n",
    "        num = '1'+num\n",
    "    return num\n",
    "'''\n",
    "Input: some int n (pos or neg)\n",
    "Output: The int n in signed magnitude as a string\n",
    "'''\n",
    "print(sign_mag(-23))\n",
    "print(sign_mag(23))"
   ]
  },
  {
   "cell_type": "code",
   "execution_count": 15,
   "metadata": {},
   "outputs": [
    {
     "data": {
      "text/plain": [
       "'01110'"
      ]
     },
     "execution_count": 15,
     "metadata": {},
     "output_type": "execute_result"
    }
   ],
   "source": [
    "def two_comp(bi_num): #binary into two's compliment\n",
    "    new = ''\n",
    "    error = False\n",
    "    for i in bi_num:\n",
    "        if(i=='0'):\n",
    "            new = new+'1'\n",
    "        elif(i=='1'):\n",
    "            new = new+'0'\n",
    "        else:\n",
    "            error = True\n",
    "            break\n",
    "    if(error):\n",
    "        print('error has occured, make sure binary number is used')\n",
    "        return\n",
    "    return new\n",
    "'''\n",
    "Input: some binary number n represented as a string\n",
    "Output: converts n into 2's compliments\n",
    "'''\n",
    "two_comp('10001')"
   ]
  },
  {
   "cell_type": "code",
   "execution_count": null,
   "metadata": {
    "collapsed": true
   },
   "outputs": [],
   "source": []
  },
  {
   "cell_type": "code",
   "execution_count": null,
   "metadata": {
    "collapsed": true
   },
   "outputs": [],
   "source": []
  }
 ],
 "metadata": {
  "anaconda-cloud": {},
  "kernelspec": {
   "display_name": "Python 3",
   "language": "python",
   "name": "python3"
  },
  "language_info": {
   "codemirror_mode": {
    "name": "ipython",
    "version": 3
   },
   "file_extension": ".py",
   "mimetype": "text/x-python",
   "name": "python",
   "nbconvert_exporter": "python",
   "pygments_lexer": "ipython3",
   "version": "3.7.4"
  }
 },
 "nbformat": 4,
 "nbformat_minor": 1
}
