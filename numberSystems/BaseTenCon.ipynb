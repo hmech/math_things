{
 "cells": [
  {
   "cell_type": "code",
   "execution_count": 6,
   "metadata": {
    "collapsed": true
   },
   "outputs": [],
   "source": [
    "def b10_con(n,base):\n",
    "    \"\"\"\n",
    "    Input: Takes in an int \"n\", and and int \"base\"\n",
    "    Output: The int \"n\" in base \"base\".\n",
    "    \"\"\"\n",
    "    num = ''\n",
    "    while(n>0):\n",
    "        num = str(n%base)+num\n",
    "        n = int(n/base)\n",
    "    return int(num)"
   ]
  },
  {
   "cell_type": "code",
   "execution_count": 12,
   "metadata": {
    "scrolled": false
   },
   "outputs": [
    {
     "name": "stdout",
     "output_type": "stream",
     "text": [
      "101011\n",
      "1121\n",
      "223\n",
      "133\n",
      "111\n",
      "61\n",
      "53\n",
      "47\n"
     ]
    }
   ],
   "source": [
    "print(b10_con(43,2))\n",
    "print(b10_con(43,3))\n",
    "print(b10_con(43,4))\n",
    "print(b10_con(43,5))\n",
    "print(b10_con(43,6))\n",
    "print(b10_con(43,7))\n",
    "print(b10_con(43,8))\n",
    "print(b10_con(43,9))"
   ]
  },
  {
   "cell_type": "code",
   "execution_count": null,
   "metadata": {},
   "outputs": [],
   "source": []
  },
  {
   "cell_type": "code",
   "execution_count": null,
   "metadata": {},
   "outputs": [],
   "source": []
  },
  {
   "cell_type": "code",
   "execution_count": null,
   "metadata": {
    "collapsed": true
   },
   "outputs": [],
   "source": []
  }
 ],
 "metadata": {
  "anaconda-cloud": {},
  "kernelspec": {
   "display_name": "Python 3",
   "language": "python",
   "name": "python3"
  },
  "language_info": {
   "codemirror_mode": {
    "name": "ipython",
    "version": 3
   },
   "file_extension": ".py",
   "mimetype": "text/x-python",
   "name": "python",
   "nbconvert_exporter": "python",
   "pygments_lexer": "ipython3",
   "version": "3.6.1"
  }
 },
 "nbformat": 4,
 "nbformat_minor": 1
}
