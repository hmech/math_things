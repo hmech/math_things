{
 "cells": [
  {
   "cell_type": "code",
   "execution_count": 8,
   "metadata": {},
   "outputs": [
    {
     "name": "stdout",
     "output_type": "stream",
     "text": [
      "(-0.015891189206815537, -62.01004073948039)\n",
      "76.50078054503759\n",
      "(0.015891189206816016, 62.010040739482264)\n"
     ]
    }
   ],
   "source": [
    "import math\n",
    "\n",
    "def quad_f1(a,b,c):\n",
    "    root = math.sqrt(b**2 + 4*a*c)\n",
    "    ans1 = (-b + root)/(2*a)\n",
    "    ans2 = (-b - root)/(2*a)\n",
    "    return ans1, ans2\n",
    "\n",
    "def quad_f2(a,b,c):\n",
    "    root = math.sqrt(b**2 + 4*a*c)\n",
    "    print(root)\n",
    "    ans1 = (-2*c)/(b + root)\n",
    "    ans2 = (-2*c)/(b - root)\n",
    "    return ans1, ans2\n",
    "\n",
    "print(quad_f1(1.234,76.54,-1.216))\n",
    "print(quad_f2(1.234,76.54,-1.216))"
   ]
  },
  {
   "cell_type": "code",
   "execution_count": 6,
   "metadata": {},
   "outputs": [
    {
     "name": "stdout",
     "output_type": "stream",
     "text": [
      "3 0 5 10\n"
     ]
    }
   ],
   "source": [
    "def find_inter(minX1,minY1,maxX1,maxY1,minX2,minY2,maxX2,maxY2):\n",
    "    newMinX = 0\n",
    "    newMaxX = 0\n",
    "    newMinY = 0\n",
    "    newMaxY = 0\n",
    "    \n",
    "    if(minX1 <= minX2 and minX2 <= maxX1):\n",
    "        newMinX = minX2\n",
    "        if(maxX1<=maxX2):\n",
    "            newMaxX = maxX1\n",
    "        else:\n",
    "            newMaxX = maxX2      \n",
    "    elif(minX2 <= minX1 and minX1 <= maxX2):\n",
    "        newMinX = minX1\n",
    "        if(maxX2<=maxX1):\n",
    "            newMaxX = maxX2\n",
    "        else:\n",
    "            newMaxX = maxX1       \n",
    "    else:\n",
    "        print(\"they don't intersect 1\")\n",
    "        return\n",
    "    if(minY1 <= minY2 and minY2 <= maxY1):\n",
    "        newMinY = minY2\n",
    "        if(maxY1<=maxY2):\n",
    "            newMaxY = maxY1\n",
    "        else:\n",
    "            newMaxY = maxY2     \n",
    "    elif(minY2 <= minY1 and minY1 <= maxY2):\n",
    "        newMinY = minY1\n",
    "        if(maxY2<=maxY1):\n",
    "            newMaxY = maxY2\n",
    "        else:\n",
    "            newMaxY = maxY1\n",
    "    else:\n",
    "        print(\"they don't intersect 2\")\n",
    "        return\n",
    "    print(newMinX, newMinY, newMaxX, newMaxY)\n",
    "    return\n",
    "\n",
    "find_inter(0,0,5,10,3,0,7,15)"
   ]
  },
  {
   "cell_type": "code",
   "execution_count": 40,
   "metadata": {},
   "outputs": [
    {
     "name": "stdout",
     "output_type": "stream",
     "text": [
      "1 2 14 [1, 2, 3, 4, 5, 6, 7, 8, 9, 10, 11, 12, 13]\n",
      "1 3 13 [1, 2, 3, 4, 5, 6, 7, 8, 9, 10, 11, 12]\n",
      "1 5 11 [1, 2, 3, 4, 5, 6, 7, 8, 9, 10, 12]\n",
      "1 6 10 [1, 2, 3, 4, 5, 6, 7, 8, 9, 12]\n",
      "1 9 7 [1, 2, 3, 4, 5, 6, 8, 9, 12]\n",
      "1 11 5 [1, 2, 3, 4, 6, 8, 9, 12]\n",
      "2 1 1 [2, 3, 4, 6, 8, 9, 12]\n",
      "2 3 14 [2, 3, 4, 6, 8, 9, 12]\n",
      "2 5 12 [2, 3, 4, 6, 8, 9]\n",
      "2 6 11 [2, 3, 4, 6, 8, 9]\n",
      "2 9 8 [2, 3, 4, 6, 9]\n",
      "2 11 6 [2, 3, 4, 9]\n",
      "3 1 2 [3, 4, 9]\n",
      "3 2 1 [3, 4, 9]\n",
      "3 5 13 [3, 4, 9]\n",
      "3 6 12 [3, 4, 9]\n",
      "3 9 9 [3, 4]\n",
      "3 11 7 [3, 4]\n",
      "5 1 4 [3]\n",
      "5 2 3 []\n"
     ]
    }
   ],
   "source": [
    "arr = [1,2,3,5,6,9,11]\n",
    "n = 15\n",
    "check = list(range(1,n))\n",
    "for i in range(len(arr)):\n",
    "    for k in range(len(arr)):\n",
    "        if len(check)==0:\n",
    "            break\n",
    "        if i!=k:\n",
    "            if(((arr[i]-arr[k])%n) in check):\n",
    "                check.remove(((arr[i]-arr[k])%n))\n",
    "            print(arr[i],arr[k],(arr[i]-arr[k])%n,check)"
   ]
  },
  {
   "cell_type": "code",
   "execution_count": 29,
   "metadata": {},
   "outputs": [
    {
     "name": "stdout",
     "output_type": "stream",
     "text": [
      "1 1 [1]\n",
      "2 4 [1, 4]\n",
      "3 9 [1, 4, 9]\n",
      "4 16 [1, 4, 9, 16]\n",
      "5 6 [1, 4, 6, 9, 16]\n",
      "6 17 [1, 4, 6, 9, 16, 17]\n",
      "7 11 [1, 4, 6, 9, 11, 16, 17]\n",
      "8 7 [1, 4, 6, 7, 9, 11, 16, 17]\n",
      "9 5 [1, 4, 5, 6, 7, 9, 11, 16, 17]\n",
      "10 5 [1, 4, 5, 6, 7, 9, 11, 16, 17]\n",
      "11 7 [1, 4, 5, 6, 7, 9, 11, 16, 17]\n",
      "12 11 [1, 4, 5, 6, 7, 9, 11, 16, 17]\n",
      "13 17 [1, 4, 5, 6, 7, 9, 11, 16, 17]\n",
      "14 6 [1, 4, 5, 6, 7, 9, 11, 16, 17]\n",
      "15 16 [1, 4, 5, 6, 7, 9, 11, 16, 17]\n",
      "16 9 [1, 4, 5, 6, 7, 9, 11, 16, 17]\n",
      "17 4 [1, 4, 5, 6, 7, 9, 11, 16, 17]\n",
      "18 1 [1, 4, 5, 6, 7, 9, 11, 16, 17]\n",
      "19 0 [1, 4, 5, 6, 7, 9, 11, 16, 17]\n",
      "[1, 4, 5, 6, 7, 9, 11, 16, 17]\n"
     ]
    }
   ],
   "source": [
    "n = 19\n",
    "d = []\n",
    "arr = list(range(1,n+1))\n",
    "for i in range(len(arr)):\n",
    "    if((arr[i]**2)%n not in d and (arr[i]**2)%n != 0):\n",
    "        d.append((arr[i]**2)%n)\n",
    "        d.sort()\n",
    "    print(arr[i], (arr[i]**2)%n, d)\n",
    "print(d)"
   ]
  },
  {
   "cell_type": "code",
   "execution_count": 37,
   "metadata": {},
   "outputs": [
    {
     "name": "stdout",
     "output_type": "stream",
     "text": [
      "[0] 1\n",
      "[1, 3, 9, 27, 25, 19] 6\n",
      "[2, 6, 18, 54, 50, 38] 6\n",
      "[4, 12, 36, 52, 44, 20] 6\n",
      "[5, 15, 45, 23, 13, 39] 6\n",
      "[7, 21] 2\n",
      "[8, 24, 16, 48, 32, 40] 6\n",
      "[10, 30, 34, 46, 26, 22] 6\n",
      "[11, 33, 43, 17, 51, 41] 6\n",
      "[14, 42] 2\n",
      "[28] 1\n",
      "[29, 31, 37, 55, 53, 47] 6\n",
      "[35, 49] 2\n"
     ]
    }
   ],
   "source": [
    "v = 56\n",
    "m = 3\n",
    "nums = list(range(1,v))\n",
    "arr = [[0]]\n",
    "while len(nums) != 0:\n",
    "    temp = [nums[0]]\n",
    "    while(temp[0] != temp[-1] or len(temp) == 1):\n",
    "        new = temp[-1]*m%v\n",
    "        nums.remove(new)\n",
    "        temp.append(new)\n",
    "    temp = temp[:-1]\n",
    "    arr.append(temp)\n",
    "for i in arr:\n",
    "    print(i, len(i))"
   ]
  },
  {
   "cell_type": "code",
   "execution_count": 32,
   "metadata": {},
   "outputs": [
    {
     "data": {
      "text/plain": [
       "[1, 2, 3]"
      ]
     },
     "execution_count": 32,
     "metadata": {},
     "output_type": "execute_result"
    }
   ],
   "source": [
    "arr = [1,2,3,4]\n",
    "arr[:-1]"
   ]
  },
  {
   "cell_type": "code",
   "execution_count": null,
   "metadata": {
    "collapsed": true
   },
   "outputs": [],
   "source": []
  }
 ],
 "metadata": {
  "anaconda-cloud": {},
  "kernelspec": {
   "display_name": "Python 3",
   "language": "python",
   "name": "python3"
  },
  "language_info": {
   "codemirror_mode": {
    "name": "ipython",
    "version": 3
   },
   "file_extension": ".py",
   "mimetype": "text/x-python",
   "name": "python",
   "nbconvert_exporter": "python",
   "pygments_lexer": "ipython3",
   "version": "3.6.1"
  }
 },
 "nbformat": 4,
 "nbformat_minor": 1
}
