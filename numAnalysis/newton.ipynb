{
 "cells": [
  {
   "cell_type": "code",
   "execution_count": 1,
   "metadata": {},
   "outputs": [
    {
     "name": "stdout",
     "output_type": "stream",
     "text": [
      "-100\n",
      "-67.12294520547945\n",
      "-45.21069156295083\n",
      "-30.611030337432798\n",
      "-20.890313532682725\n",
      "-14.427599845025384\n",
      "-10.14397281204487\n",
      "-7.321650664158177\n",
      "-5.482347669609901\n",
      "-4.3043281697322335\n",
      "-3.5648242613362786\n",
      "-3.0994781840095937\n",
      "-2.764303945024653\n",
      "-2.0756744750764096\n",
      "-2.5401125042410326\n",
      "-3.1421077624340468\n",
      "-2.800679435231764\n",
      "-2.274237775064319\n",
      "-2.6754008707963948\n",
      "4.725539028494406\n",
      "2.9616670020057625\n",
      "1.9405440179931344\n",
      "1.479332706278172\n",
      "1.371119833892298\n",
      "1.3652469470192523\n",
      "1.3652300135546727\n",
      "1.3652300134140969\n",
      "1.3652300134140969\n"
     ]
    },
    {
     "data": {
      "text/plain": [
       "26"
      ]
     },
     "execution_count": 1,
     "metadata": {},
     "output_type": "execute_result"
    }
   ],
   "source": [
    "#newtons method\n",
    "def f(x):\n",
    "    f = x**3 + 4*x**2 - 10 #some function\n",
    "    return f\n",
    "\n",
    "def fp(x):\n",
    "    f = 3*x**2 + 8*x #that function's derivative\n",
    "    return f\n",
    "    \n",
    "def newton(x): #newtons method\n",
    "    y = x - (f(x)/fp(x))\n",
    "    return y\n",
    "\n",
    "x = -100 #x0\n",
    "print(x)\n",
    "test = x*2 #some value != x\n",
    "count = 0\n",
    "while(test != x):\n",
    "    count += 1\n",
    "    test = x\n",
    "    x = newton(x)\n",
    "    print(x)\n",
    "count - 1"
   ]
  },
  {
   "cell_type": "code",
   "execution_count": 14,
   "metadata": {},
   "outputs": [
    {
     "name": "stdout",
     "output_type": "stream",
     "text": [
      "[1, 4, -4, -36, -44, -4]\n",
      "[1, 3, -7, -29, -15]\n",
      "[1, 2, -9, -20]\n",
      "[1, 1, -10]\n",
      "[1, 0]\n"
     ]
    }
   ],
   "source": [
    "arr = [1,5,0,-40,-80,-48] #x^5 + 5x^4 - 40x^2 - 80x - 48\n",
    "n = 5\n",
    "x = -1\n",
    "def horner(arr,n,x):\n",
    "    l = len(arr)\n",
    "    for z in range(n):\n",
    "        new_arr = []\n",
    "        new_arr.append(arr[0])\n",
    "        i = 1\n",
    "        while(i<(l-z)):\n",
    "            new_arr.append(arr[i] + new_arr[i-1]*x)\n",
    "            i += 1\n",
    "        arr = new_arr\n",
    "        print(arr)\n",
    "horner(arr, n, x)"
   ]
  },
  {
   "cell_type": "code",
   "execution_count": null,
   "metadata": {
    "collapsed": true
   },
   "outputs": [],
   "source": []
  }
 ],
 "metadata": {
  "anaconda-cloud": {},
  "kernelspec": {
   "display_name": "Python 3",
   "language": "python",
   "name": "python3"
  },
  "language_info": {
   "codemirror_mode": {
    "name": "ipython",
    "version": 3
   },
   "file_extension": ".py",
   "mimetype": "text/x-python",
   "name": "python",
   "nbconvert_exporter": "python",
   "pygments_lexer": "ipython3",
   "version": "3.7.4"
  }
 },
 "nbformat": 4,
 "nbformat_minor": 1
}
