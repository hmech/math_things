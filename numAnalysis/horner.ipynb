{
 "cells": [
  {
   "cell_type": "code",
   "execution_count": null,
   "metadata": {},
   "outputs": [],
   "source": [
    "arr = [1,5,0,-40,-80,-48] #x^5 + 5x^4 - 40x^2 - 80x - 48\n",
    "n = 5\n",
    "x = -1\n",
    "def horner(arr,n,x):\n",
    "    l = len(arr)\n",
    "    for z in range(n):\n",
    "        new_arr = []\n",
    "        new_arr.append(arr[0])\n",
    "        i = 1\n",
    "        while(i<(l-z)):\n",
    "            new_arr.append(arr[i] + new_arr[i-1]*x)\n",
    "            i += 1\n",
    "        arr = new_arr\n",
    "        print(arr)\n",
    "horner(arr, n, x)"
   ]
  }
 ],
 "metadata": {
  "kernelspec": {
   "display_name": "Python 3",
   "language": "python",
   "name": "python3"
  },
  "language_info": {
   "codemirror_mode": {
    "name": "ipython",
    "version": 3
   },
   "file_extension": ".py",
   "mimetype": "text/x-python",
   "name": "python",
   "nbconvert_exporter": "python",
   "pygments_lexer": "ipython3",
   "version": "3.7.4"
  }
 },
 "nbformat": 4,
 "nbformat_minor": 2
}
