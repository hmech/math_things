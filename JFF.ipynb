{
 "cells": [
  {
   "cell_type": "markdown",
   "metadata": {},
   "source": [
    "# Just For Fun\n",
    "\n",
    "This page is the equivalent of a scrap "
   ]
  },
  {
   "cell_type": "code",
   "execution_count": 11,
   "metadata": {},
   "outputs": [
    {
     "data": {
      "text/plain": [
       "[1, 1, 2, 3, 5, 8, 13, 21, 34, 55, 89, 144, 233, 377, 610, 987, 1597]"
      ]
     },
     "execution_count": 11,
     "metadata": {},
     "output_type": "execute_result"
    }
   ],
   "source": [
    "#for n = 1 we get the golden ratio, n = 2 the silver and so on ...\n",
    "def log_ratio(n,length):\n",
    "    arr = [1,1]\n",
    "    for i in range(1,length+1):\n",
    "        arr.append(n*arr[i]+arr[i-1])\n",
    "    return arr\n",
    "\n",
    "log_ratio(1, 15)"
   ]
  },
  {
   "cell_type": "code",
   "execution_count": 8,
   "metadata": {
    "collapsed": true
   },
   "outputs": [],
   "source": [
    "import math\n",
    "\n",
    "gr = (1+ math.sqrt(5))/2\n",
    "def fib(n):\n",
    "    return int((gr**n - (1-gr)**n)/math.sqrt(5))\n",
    "\n",
    "def fib_ratio(n): #n must be larger than 2\n",
    "    return ((gr**n - (1-gr)**n)/math.sqrt(5))/((gr**(n-1) - (1-gr)**(n-1))/math.sqrt(5))"
   ]
  },
  {
   "cell_type": "code",
   "execution_count": 2,
   "metadata": {},
   "outputs": [
    {
     "name": "stdout",
     "output_type": "stream",
     "text": [
      "each day is roughly 0.011407711613050422 \b% of your life\n",
      "each day is roughly 0.012444776305145915 \b% of your life\n"
     ]
    }
   ],
   "source": [
    "def age_percentage(years):\n",
    "    days = years * 365.25\n",
    "    print(\"each day is roughly\", 1/days * 100 ,\"\\b% of your life\")\n",
    "    return\n",
    "\n",
    "def age_percentage(years, days):\n",
    "    days = (years * 365.25) + days\n",
    "    print(\"each day is roughly\", (1/days * 100), \"\\b% of your life\")\n",
    "    return\n",
    "\n",
    "age_percentage(24,0)\n",
    "age_percentage(22,0)"
   ]
  },
  {
   "cell_type": "code",
   "execution_count": 37,
   "metadata": {},
   "outputs": [
    {
     "data": {
      "image/png": "[encoded data removed]",
      "text/plain": [
       "<matplotlib.figure.Figure at 0x11a733048>"
      ]
     },
     "metadata": {},
     "output_type": "display_data"
    }
   ],
   "source": [
    "import matplotlib.pyplot as plt\n",
    "\n",
    "x = []\n",
    "y = []\n",
    "ran = 1\n",
    "step = 10000\n",
    "for i in range(1,int(ran*step)):\n",
    "    var = i/(ran*step)\n",
    "    x.append(var)\n",
    "    y.append((1/var)%1)\n",
    "\n",
    "plt.plot(x,y)\n",
    "plt.show()"
   ]
  },
  {
   "cell_type": "code",
   "execution_count": null,
   "metadata": {
    "collapsed": true
   },
   "outputs": [],
   "source": []
  },
  {
   "cell_type": "code",
   "execution_count": null,
   "metadata": {
    "collapsed": true
   },
   "outputs": [],
   "source": []
  }
 ],
 "metadata": {
  "kernelspec": {
   "display_name": "Python 3",
   "language": "python",
   "name": "python3"
  },
  "language_info": {
   "codemirror_mode": {
    "name": "ipython",
    "version": 3
   },
   "file_extension": ".py",
   "mimetype": "text/x-python",
   "name": "python",
   "nbconvert_exporter": "python",
   "pygments_lexer": "ipython3",
   "version": "3.7.4"
  }
 },
 "nbformat": 4,
 "nbformat_minor": 2
}
